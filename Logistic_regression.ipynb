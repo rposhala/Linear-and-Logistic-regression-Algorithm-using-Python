{
  "nbformat": 4,
  "nbformat_minor": 0,
  "metadata": {
    "colab": {
      "name": "logistic.ipynb",
      "provenance": [],
      "collapsed_sections": [],
      "include_colab_link": true
    },
    "kernelspec": {
      "name": "python3",
      "display_name": "Python 3"
    }
  },
  "cells": [
    {
      "cell_type": "markdown",
      "metadata": {
        "id": "view-in-github",
        "colab_type": "text"
      },
      "source": [
        "<a href=\"https://colab.research.google.com/github/rposhala/Linear-and-Logistic-regression-Algorithm-using-Python/blob/master/Logistic_regression.ipynb\" target=\"_parent\"><img src=\"https://colab.research.google.com/assets/colab-badge.svg\" alt=\"Open In Colab\"/></a>"
      ]
    },
    {
      "cell_type": "markdown",
      "metadata": {
        "id": "08Yx88YGM3N-",
        "colab_type": "text"
      },
      "source": [
        "# Loading libraries"
      ]
    },
    {
      "cell_type": "code",
      "metadata": {
        "id": "Nd9Am15lBIwB",
        "colab_type": "code",
        "colab": {}
      },
      "source": [
        "import tensorflow as tf\n",
        "import numpy as np\n",
        "import matplotlib.pyplot as plt\n",
        "import random as rd"
      ],
      "execution_count": 1,
      "outputs": []
    },
    {
      "cell_type": "markdown",
      "metadata": {
        "id": "Tkq_BflIM8oO",
        "colab_type": "text"
      },
      "source": [
        "# Loading and splitting MNIST dataset"
      ]
    },
    {
      "cell_type": "code",
      "metadata": {
        "id": "ZVijs5FtBPB5",
        "colab_type": "code",
        "colab": {}
      },
      "source": [
        "#load data and preprocess data\n",
        "mnist = tf.keras.datasets.mnist\n",
        "(train_images , train_labels), (test_images, test_labels) = mnist.load_data()\n",
        "#choose pictures of number 3 and number 5\n",
        "index_train = np.where( (train_labels ==3) | (train_labels ==5) )\n",
        "index_test = np.where( (test_labels ==3) | (test_labels ==5) )\n",
        "#label of number 3: -1; label of number 5: +1\n",
        "train_images_35 = train_images[index_train]\n",
        "train_images_35 = train_images_35.reshape((len(train_images_35), train_images_35[1].size))\n",
        "train_labels_35 = train_labels[index_train].astype('int')\n",
        "test_images_35 = test_images[index_test]\n",
        "test_images_35 = test_images_35.reshape((len(test_images_35), train_images_35[1].size))\n",
        "test_labels_35 = test_labels[index_test].astype('int')\n",
        "#change labels from '3' to '-1', change labels from '5' to '+1'\n",
        "train_labels_35[np.where(train_labels_35==3)] = 0\n",
        "train_labels_35[np.where(train_labels_35==5)] = 1\n",
        "test_labels_35[np.where(test_labels_35==3)] = 0\n",
        "test_labels_35[np.where(test_labels_35==5)] = 1\n",
        "\n",
        "train_images_35_hw3=train_images_35[range(2000)] #choose a subset of the entire training dataset\n",
        "train_labels_35_hw3=train_labels_35[range(2000)]\n",
        "\n",
        "train_images_35_hw3=np.insert(train_images_35_hw3,784,1,axis=1)/255 #normalizing feature vector\n",
        "test_images_35_hw3=np.insert(test_images_35,784,1,axis=1)/255\n",
        "train_images_35 = np.insert(train_images_35,784,1,axis=1)/255\n"
      ],
      "execution_count": null,
      "outputs": []
    },
    {
      "cell_type": "markdown",
      "metadata": {
        "id": "doCdlqMqNF3t",
        "colab_type": "text"
      },
      "source": [
        "# Training the weights using batch gradient descent"
      ]
    },
    {
      "cell_type": "code",
      "metadata": {
        "id": "qeU1SCkfECLy",
        "colab_type": "code",
        "colab": {}
      },
      "source": [
        "## training the weights using batch gradient descent\n",
        "def batch(convergence):\n",
        "  weights_batch = np.zeros((len(train_images_35_hw3[0]),1))\n",
        "  gradient_norm = 100\n",
        "  alpha = 0.5\n",
        "  batch_count= 0\n",
        "  while (gradient_norm > convergence):\n",
        "    batch_count += 1\n",
        "    a = 0\n",
        "    for i in range(len(train_images_35_hw3)):\n",
        "      x_feature = train_images_35_hw3[i].reshape(785,1)\n",
        "      y_label = train_labels_35_hw3[i]\n",
        "      g = -1*np.dot(weights_batch.T , x_feature)\n",
        "      h = 1/(1+(np.exp(g)))\n",
        "      diff = (y_label - h)[0][0]\n",
        "      a += diff*x_feature\n",
        "    weights_batch += alpha*a\n",
        "    gradient_norm = np.linalg.norm(a,axis=0)\n",
        "  return weights_batch , batch_count\n",
        "\n"
      ],
      "execution_count": null,
      "outputs": []
    },
    {
      "cell_type": "markdown",
      "metadata": {
        "id": "jdyIapyGNOan",
        "colab_type": "text"
      },
      "source": [
        "# Testing training samples"
      ]
    },
    {
      "cell_type": "code",
      "metadata": {
        "id": "Fci7bgQVe75N",
        "colab_type": "code",
        "colab": {}
      },
      "source": [
        "## testing training samples\n",
        "def testing(x,weights,threshold):\n",
        "  train_pred_batch = np.zeros(len(x))\n",
        "  for i in range(len(x)):\n",
        "    x_temp = x[i].reshape(785,1)\n",
        "    f = -1*np.dot(weights.T , x_temp)\n",
        "    h = 1/(1+(np.exp(f)))\n",
        "    if h > threshold:\n",
        "      # print(h)\n",
        "      train_pred_batch[i] = 1\n",
        "    else :\n",
        "      # print(h)\n",
        "      train_pred_batch[i] = 0\n",
        "  return train_pred_batch\n"
      ],
      "execution_count": 2,
      "outputs": []
    },
    {
      "cell_type": "markdown",
      "metadata": {
        "id": "Z9CThVlCNSIF",
        "colab_type": "text"
      },
      "source": [
        "# Confusion Matrix"
      ]
    },
    {
      "cell_type": "code",
      "metadata": {
        "id": "gvCH8KffAyHH",
        "colab_type": "code",
        "colab": {}
      },
      "source": [
        "def ConfusionMatrix(y_true,y_pred):\n",
        "  classes = 2\n",
        "  modified_list = ((y_true)*classes) + (y_pred)\n",
        "  squared_no_of_classes = classes**2\n",
        "  confusion_matrix = np.histogram(modified_list, bins=np.arange(squared_no_of_classes+1))[0]\n",
        "  confusion_matrix = confusion_matrix.reshape(classes,classes)\n",
        "  return confusion_matrix"
      ],
      "execution_count": null,
      "outputs": []
    },
    {
      "cell_type": "markdown",
      "metadata": {
        "id": "Q7XFSOKfNU8p",
        "colab_type": "text"
      },
      "source": [
        ""
      ]
    },
    {
      "cell_type": "markdown",
      "metadata": {
        "id": "fLqRpeTyNVaG",
        "colab_type": "text"
      },
      "source": [
        "# Function to determine error"
      ]
    },
    {
      "cell_type": "code",
      "metadata": {
        "id": "nIk1k6nijh-L",
        "colab_type": "code",
        "colab": {}
      },
      "source": [
        "def error(pred,true):\n",
        "  nppred = np.asarray(pred)\n",
        "  c = true - nppred\n",
        "  misclass = np.count_nonzero(c)\n",
        "  error = misclass/len(pred)\n",
        "  return error"
      ],
      "execution_count": null,
      "outputs": []
    },
    {
      "cell_type": "markdown",
      "metadata": {
        "id": "SjqwN2WXNZ7N",
        "colab_type": "text"
      },
      "source": [
        "# Training the weights using stochastic gradient descent"
      ]
    },
    {
      "cell_type": "code",
      "metadata": {
        "id": "lC9tez0krv9C",
        "colab_type": "code",
        "colab": {}
      },
      "source": [
        "## training the weights using stochastic gradient descent\n",
        "def stochastic(convergence):\n",
        "  flag = 0\n",
        "  weights_stochastic = np.zeros((len(train_images_35_hw3[0]),1))\n",
        "  gradient_norm = 100\n",
        "  alpha = 0.5\n",
        "  stochastic_count= 0\n",
        "  idx = np.arange(len(train_images_35_hw3))\n",
        "  np.random.shuffle(idx)\n",
        "  image_shuffled = train_images_35_hw3[idx]\n",
        "  label_shuffled = train_labels_35_hw3[idx]\n",
        "  while (flag == 0):\n",
        "    stochastic_count += 1\n",
        "    a = 0\n",
        "    for i in range(len(image_shuffled)):\n",
        "      x_feature = image_shuffled[i].reshape(785,1)\n",
        "      y_label = label_shuffled[i]\n",
        "      g = -1*np.dot(weights_batch.T , x_feature)\n",
        "      h = 1/(1+(np.exp(g)))\n",
        "      diff = (y_label - h)[0][0]\n",
        "      descent = diff*x_feature\n",
        "      weights_stochastic += alpha*descent\n",
        "      a += descent\n",
        "      if (i+1)%200 == 0:\n",
        "        gradient_norm = np.linalg.norm(a,axis=0)\n",
        "        a = 0\n",
        "        if gradient_norm < convergence :\n",
        "          flag = 1\n",
        "          break\n",
        "  return weights_stochastic"
      ],
      "execution_count": null,
      "outputs": []
    },
    {
      "cell_type": "markdown",
      "metadata": {
        "id": "KWo8A4BCNdoC",
        "colab_type": "text"
      },
      "source": [
        "# Testing Batch and Stochastic gradient descent"
      ]
    },
    {
      "cell_type": "code",
      "metadata": {
        "id": "xtkDhBaskfyu",
        "colab_type": "code",
        "colab": {
          "base_uri": "https://localhost:8080/",
          "height": 153
        },
        "outputId": "9b81cfe7-b512-443c-8dad-9834f12ab160"
      },
      "source": [
        "weights_batch , batch_count = batch(0.01)\n",
        "print(batch_count)\n",
        "\n",
        "train_pred_batch = testing(train_images_35_hw3,weights_batch,0.5)\n",
        "print(error(train_pred_batch,train_labels_35_hw3))\n",
        "\n",
        "train_pred_batch = testing(train_images_35,weights_batch,0.5)\n",
        "print(error(train_pred_batch,train_labels_35))\n",
        "\n",
        "test_pred_batch = testing(test_images_35_hw3,weights_batch,0.5)\n",
        "print(error(test_pred_batch,test_labels_35))\n"
      ],
      "execution_count": null,
      "outputs": [
        {
          "output_type": "stream",
          "text": [
            "/usr/local/lib/python3.6/dist-packages/ipykernel_launcher.py:13: RuntimeWarning: overflow encountered in exp\n",
            "  del sys.path[0]\n"
          ],
          "name": "stderr"
        },
        {
          "output_type": "stream",
          "text": [
            "895\n",
            "0.0\n",
            "0.051073407202216065\n",
            "0.052050473186119876\n"
          ],
          "name": "stdout"
        },
        {
          "output_type": "stream",
          "text": [
            "/usr/local/lib/python3.6/dist-packages/ipykernel_launcher.py:6: RuntimeWarning: overflow encountered in exp\n",
            "  \n"
          ],
          "name": "stderr"
        }
      ]
    },
    {
      "cell_type": "code",
      "metadata": {
        "id": "15LU0Y8kyySR",
        "colab_type": "code",
        "colab": {
          "base_uri": "https://localhost:8080/",
          "height": 350
        },
        "outputId": "14a6f274-3d19-4109-fdf1-34f63a606915"
      },
      "source": [
        "threshold = np.arange(0,11)*0.1\n",
        "batch_tpr = []\n",
        "batch_fpr = []\n",
        "\n",
        "for i in threshold:\n",
        "  # print(i)\n",
        "  test_pred_batch = testing(test_images_35_hw3,weights_batch,i)\n",
        "  cf = ConfusionMatrix(test_labels_35,test_pred_batch)\n",
        "  batch_tpr.append(cf[0][0]/np.sum(cf,axis=1)[0])\n",
        "  batch_fpr.append(cf[1][0]/np.sum(cf,axis=1)[1])\n",
        "  \n",
        "print(batch_fpr,batch_tpr)\n",
        "plt.scatter(batch_fpr,batch_tpr)\n",
        "plt.plot(batch_fpr,batch_tpr)\n",
        "plt.xlabel('fpr')\n",
        "plt.ylabel('tpr')\n",
        "plt.show()\n",
        "plt.show()\n"
      ],
      "execution_count": null,
      "outputs": [
        {
          "output_type": "stream",
          "text": [
            "/usr/local/lib/python3.6/dist-packages/ipykernel_launcher.py:6: RuntimeWarning: overflow encountered in exp\n",
            "  \n"
          ],
          "name": "stderr"
        },
        {
          "output_type": "stream",
          "text": [
            "[0.03811659192825112, 0.08071748878923767, 0.08071748878923767, 0.08071748878923767, 0.08071748878923767, 0.08071748878923767, 0.08071748878923767, 0.08071748878923767, 0.08071748878923767, 0.08071748878923767, 1.0] [0.9326732673267327, 0.9732673267326732, 0.9732673267326732, 0.9732673267326732, 0.9732673267326732, 0.9732673267326732, 0.9732673267326732, 0.9732673267326732, 0.9732673267326732, 0.9732673267326732, 1.0]\n"
          ],
          "name": "stdout"
        },
        {
          "output_type": "display_data",
          "data": {
            "image/png": "[encoded data removed]",
            "text/plain": [
              "<Figure size 432x288 with 1 Axes>"
            ]
          },
          "metadata": {
            "tags": [],
            "needs_background": "light"
          }
        }
      ]
    },
    {
      "cell_type": "code",
      "metadata": {
        "id": "eN06rIXQM3G9",
        "colab_type": "code",
        "colab": {}
      },
      "source": [
        ""
      ],
      "execution_count": null,
      "outputs": []
    }
  ]
}