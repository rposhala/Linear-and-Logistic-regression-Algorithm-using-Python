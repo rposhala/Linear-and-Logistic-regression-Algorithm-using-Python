{
  "nbformat": 4,
  "nbformat_minor": 0,
  "metadata": {
    "colab": {
      "name": "LinearandLogistic.ipynb",
      "provenance": [],
      "authorship_tag": "ABX9TyPxJrS9mFqS8BZ481S8IVH6",
      "include_colab_link": true
    },
    "kernelspec": {
      "name": "python3",
      "display_name": "Python 3"
    }
  },
  "cells": [
    {
      "cell_type": "markdown",
      "metadata": {
        "id": "view-in-github",
        "colab_type": "text"
      },
      "source": [
        "<a href=\"https://colab.research.google.com/github/rposhala/Linear-and-Logistic-regression-Algorithm-using-Python/blob/master/LinearandLogistic.ipynb\" target=\"_parent\"><img src=\"https://colab.research.google.com/assets/colab-badge.svg\" alt=\"Open In Colab\"/></a>"
      ]
    },
    {
      "cell_type": "markdown",
      "metadata": {
        "id": "MsXEi5H3SEjw",
        "colab_type": "text"
      },
      "source": [
        "# Linear Regression"
      ]
    },
    {
      "cell_type": "code",
      "metadata": {
        "id": "Yh-qvLs-JliH",
        "colab_type": "code",
        "colab": {}
      },
      "source": [
        "import numpy as np\n",
        "from matplotlib import pyplot as plt"
      ],
      "execution_count": 0,
      "outputs": []
    },
    {
      "cell_type": "markdown",
      "metadata": {
        "id": "T__GKdgVMUDr",
        "colab_type": "text"
      },
      "source": [
        "# Defining x and y with y being third order of x with additional noise (underlying truth)"
      ]
    },
    {
      "cell_type": "code",
      "metadata": {
        "id": "w4yB7r-eMM1X",
        "colab_type": "code",
        "colab": {}
      },
      "source": [
        "n = np.random.normal(0,1,10)\n",
        "x = (np.arange(10)-5)/2\n",
        "y = np.power(x,3) - np.power(x,2) + 1+ n"
      ],
      "execution_count": 0,
      "outputs": []
    },
    {
      "cell_type": "code",
      "metadata": {
        "id": "oUYl2iz7MPE8",
        "colab_type": "code",
        "colab": {
          "base_uri": "https://localhost:8080/",
          "height": 68
        },
        "outputId": "be6dade6-4d21-4946-96ff-c91fbc8acc2a"
      },
      "source": [
        "y"
      ],
      "execution_count": 3,
      "outputs": [
        {
          "output_type": "execute_result",
          "data": {
            "text/plain": [
              "array([-21.50619548, -11.63068265,  -4.03704127,  -1.19778344,\n",
              "         1.38068511,   0.43341807,   2.24643007,   0.81229158,\n",
              "         1.16606324,   3.78827477])"
            ]
          },
          "metadata": {
            "tags": []
          },
          "execution_count": 3
        }
      ]
    },
    {
      "cell_type": "markdown",
      "metadata": {
        "id": "bWVEWju6M3xg",
        "colab_type": "text"
      },
      "source": [
        "Plotting true relation between x and y"
      ]
    },
    {
      "cell_type": "code",
      "metadata": {
        "id": "4ddTLt_LMSDD",
        "colab_type": "code",
        "colab": {
          "base_uri": "https://localhost:8080/",
          "height": 286
        },
        "outputId": "1ac28b97-54cd-4696-e108-d7f054483a7a"
      },
      "source": [
        "plt.plot(x,y)"
      ],
      "execution_count": 4,
      "outputs": [
        {
          "output_type": "execute_result",
          "data": {
            "text/plain": [
              "[<matplotlib.lines.Line2D at 0x7f238623de80>]"
            ]
          },
          "metadata": {
            "tags": []
          },
          "execution_count": 4
        },
        {
          "output_type": "display_data",
          "data": {
            "image/png": "[encoded data removed]",
            "text/plain": [
              "<Figure size 432x288 with 1 Axes>"
            ]
          },
          "metadata": {
            "tags": [],
            "needs_background": "light"
          }
        }
      ]
    },
    {
      "cell_type": "markdown",
      "metadata": {
        "id": "lXKfaFGUPd_s",
        "colab_type": "text"
      },
      "source": [
        "# forming Linear relationship"
      ]
    },
    {
      "cell_type": "code",
      "metadata": {
        "id": "ZylNBImzOyWn",
        "colab_type": "code",
        "colab": {}
      },
      "source": [
        "c1 = np.polyfit(x,y,deg=1)\n",
        "linear_x = c1[0]*x + c1[-1]"
      ],
      "execution_count": 0,
      "outputs": []
    },
    {
      "cell_type": "markdown",
      "metadata": {
        "id": "TD_gXVD1P2Ed",
        "colab_type": "text"
      },
      "source": [
        "defining powers of x"
      ]
    },
    {
      "cell_type": "code",
      "metadata": {
        "id": "n-kadTCpP0iJ",
        "colab_type": "code",
        "colab": {}
      },
      "source": [
        "x = np.asarray(x)\n",
        "x2 = np.power(x,2)\n",
        "x3 = np.power(x,3)\n",
        "x4 = np.power(x,4)\n",
        "x5 = np.power(x,5)"
      ],
      "execution_count": 0,
      "outputs": []
    },
    {
      "cell_type": "markdown",
      "metadata": {
        "id": "DnNiDK5FQHOd",
        "colab_type": "text"
      },
      "source": [
        "# forming Quandratic relationship"
      ]
    },
    {
      "cell_type": "code",
      "metadata": {
        "id": "CpUx-M78QHYn",
        "colab_type": "code",
        "colab": {}
      },
      "source": [
        "c2 = np.polyfit(x,y,deg=2)\n",
        "quadratic_x = c2[0]*x2 + c2[1]*x + c2[-1]"
      ],
      "execution_count": 0,
      "outputs": []
    },
    {
      "cell_type": "markdown",
      "metadata": {
        "id": "fcDn7Y4nQJ6U",
        "colab_type": "text"
      },
      "source": [
        "# forming Cubic relationship"
      ]
    },
    {
      "cell_type": "code",
      "metadata": {
        "id": "XJ-hMnRVQKH3",
        "colab_type": "code",
        "colab": {}
      },
      "source": [
        "c3 = np.polyfit(x,y,deg=3)\n",
        "cubic_x = c3[0]*x3 + c3[1]*x2 + c3[2]*x + c3[-1]"
      ],
      "execution_count": 0,
      "outputs": []
    },
    {
      "cell_type": "markdown",
      "metadata": {
        "id": "1x4kG-o7QKSh",
        "colab_type": "text"
      },
      "source": [
        "# forming Quartic relationship"
      ]
    },
    {
      "cell_type": "code",
      "metadata": {
        "id": "FwbWAFWbQKcm",
        "colab_type": "code",
        "colab": {}
      },
      "source": [
        "c4 = np.polyfit(x,y,deg=4)\n",
        "quartic_x = c4[0]*x4 + c4[1]*x3 + c4[2]*x2 + c4[3]*x + c4[-1]"
      ],
      "execution_count": 0,
      "outputs": []
    },
    {
      "cell_type": "markdown",
      "metadata": {
        "id": "Q18Cp6rIQKmE",
        "colab_type": "text"
      },
      "source": [
        "# forming Quintic relationship"
      ]
    },
    {
      "cell_type": "code",
      "metadata": {
        "id": "RZnfnsCuQKwb",
        "colab_type": "code",
        "colab": {}
      },
      "source": [
        "c5 = np.polyfit(x,y,deg=5)\n",
        "quintic_x = c5[0]*x5 + c5[1]*x4 + c5[2]*x3 + c5[3]*x2 + c5[4]*x + c5[-1]"
      ],
      "execution_count": 0,
      "outputs": []
    },
    {
      "cell_type": "markdown",
      "metadata": {
        "id": "4WIumvlyQzXz",
        "colab_type": "text"
      },
      "source": [
        "# defining true y values"
      ]
    },
    {
      "cell_type": "code",
      "metadata": {
        "id": "PqeE7bKUQzhs",
        "colab_type": "code",
        "colab": {}
      },
      "source": [
        "y_true = np.power(x,3) - np.power(x,2) + 1"
      ],
      "execution_count": 0,
      "outputs": []
    },
    {
      "cell_type": "markdown",
      "metadata": {
        "id": "X7-He36DQ2F1",
        "colab_type": "text"
      },
      "source": [
        "# Linear prediction Vs True value"
      ]
    },
    {
      "cell_type": "code",
      "metadata": {
        "id": "QyR7XQK7Q9DT",
        "colab_type": "code",
        "colab": {
          "base_uri": "https://localhost:8080/",
          "height": 299
        },
        "outputId": "0770a94c-ad45-4ccd-cc08-b0cf50f5f134"
      },
      "source": [
        "plt.plot(x,linear_x,'g--',x,y_true,'r--')"
      ],
      "execution_count": 12,
      "outputs": [
        {
          "output_type": "execute_result",
          "data": {
            "text/plain": [
              "[<matplotlib.lines.Line2D at 0x7f2385d16160>,\n",
              " <matplotlib.lines.Line2D at 0x7f2385d16320>]"
            ]
          },
          "metadata": {
            "tags": []
          },
          "execution_count": 12
        },
        {
          "output_type": "display_data",
          "data": {
            "image/png": "[encoded data removed]",
            "text/plain": [
              "<Figure size 432x288 with 1 Axes>"
            ]
          },
          "metadata": {
            "tags": [],
            "needs_background": "light"
          }
        }
      ]
    },
    {
      "cell_type": "markdown",
      "metadata": {
        "id": "GjMdAqRVQ_ON",
        "colab_type": "text"
      },
      "source": [
        "# Quadratic prediction Vs True value"
      ]
    },
    {
      "cell_type": "code",
      "metadata": {
        "id": "tlDIo8dzQ_Yp",
        "colab_type": "code",
        "colab": {
          "base_uri": "https://localhost:8080/",
          "height": 299
        },
        "outputId": "af57d1e8-eb5f-4a4b-9409-ce17c46bbc44"
      },
      "source": [
        "plt.plot(x,quadratic_x,'--',x,y_true,'r--')"
      ],
      "execution_count": 13,
      "outputs": [
        {
          "output_type": "execute_result",
          "data": {
            "text/plain": [
              "[<matplotlib.lines.Line2D at 0x7f2385d014e0>,\n",
              " <matplotlib.lines.Line2D at 0x7f2385d01630>]"
            ]
          },
          "metadata": {
            "tags": []
          },
          "execution_count": 13
        },
        {
          "output_type": "display_data",
          "data": {
            "image/png": "[encoded data removed]",
            "text/plain": [
              "<Figure size 432x288 with 1 Axes>"
            ]
          },
          "metadata": {
            "tags": [],
            "needs_background": "light"
          }
        }
      ]
    },
    {
      "cell_type": "markdown",
      "metadata": {
        "id": "lpcW5nc_RBXq",
        "colab_type": "text"
      },
      "source": [
        "# Cubic prediction Vs True value"
      ]
    },
    {
      "cell_type": "code",
      "metadata": {
        "id": "JFT9q9rbRBk9",
        "colab_type": "code",
        "colab": {
          "base_uri": "https://localhost:8080/",
          "height": 299
        },
        "outputId": "7ce9a1e0-e522-4f43-cd69-9a78fa799ba3"
      },
      "source": [
        "plt.plot(x,cubic_x,'--',x,y_true,'r--')"
      ],
      "execution_count": 14,
      "outputs": [
        {
          "output_type": "execute_result",
          "data": {
            "text/plain": [
              "[<matplotlib.lines.Line2D at 0x7f2385c644e0>,\n",
              " <matplotlib.lines.Line2D at 0x7f2385c64630>]"
            ]
          },
          "metadata": {
            "tags": []
          },
          "execution_count": 14
        },
        {
          "output_type": "display_data",
          "data": {
            "image/png": "[encoded data removed]",
            "text/plain": [
              "<Figure size 432x288 with 1 Axes>"
            ]
          },
          "metadata": {
            "tags": [],
            "needs_background": "light"
          }
        }
      ]
    },
    {
      "cell_type": "markdown",
      "metadata": {
        "id": "kyvggBCwRDkf",
        "colab_type": "text"
      },
      "source": [
        "# Quartic prediction Vs True value"
      ]
    },
    {
      "cell_type": "code",
      "metadata": {
        "id": "osFyS0t-RDvw",
        "colab_type": "code",
        "colab": {
          "base_uri": "https://localhost:8080/",
          "height": 299
        },
        "outputId": "89891b76-648c-4069-b193-a13299b6ea25"
      },
      "source": [
        "plt.plot(x,quartic_x,'--',x,y_true,'r--')"
      ],
      "execution_count": 15,
      "outputs": [
        {
          "output_type": "execute_result",
          "data": {
            "text/plain": [
              "[<matplotlib.lines.Line2D at 0x7f2385c44390>,\n",
              " <matplotlib.lines.Line2D at 0x7f2385c444e0>]"
            ]
          },
          "metadata": {
            "tags": []
          },
          "execution_count": 15
        },
        {
          "output_type": "display_data",
          "data": {
            "image/png": "[encoded data removed]",
            "text/plain": [
              "<Figure size 432x288 with 1 Axes>"
            ]
          },
          "metadata": {
            "tags": [],
            "needs_background": "light"
          }
        }
      ]
    },
    {
      "cell_type": "markdown",
      "metadata": {
        "id": "Wak9qIOhRF6t",
        "colab_type": "text"
      },
      "source": [
        "# Quintic prediction Vs True value"
      ]
    },
    {
      "cell_type": "code",
      "metadata": {
        "id": "kDbAw5C7RGFX",
        "colab_type": "code",
        "colab": {
          "base_uri": "https://localhost:8080/",
          "height": 299
        },
        "outputId": "a2e25686-7c29-4ee7-cb7f-331de038b151"
      },
      "source": [
        "plt.plot(x,quintic_x,'--',x,y_true,'r--')"
      ],
      "execution_count": 16,
      "outputs": [
        {
          "output_type": "execute_result",
          "data": {
            "text/plain": [
              "[<matplotlib.lines.Line2D at 0x7f2385ba6240>,\n",
              " <matplotlib.lines.Line2D at 0x7f2385ba6390>]"
            ]
          },
          "metadata": {
            "tags": []
          },
          "execution_count": 16
        },
        {
          "output_type": "display_data",
          "data": {
            "image/png": "[encoded data removed]",
            "text/plain": [
              "<Figure size 432x288 with 1 Axes>"
            ]
          },
          "metadata": {
            "tags": [],
            "needs_background": "light"
          }
        }
      ]
    },
    {
      "cell_type": "markdown",
      "metadata": {
        "id": "Je8XTCDlR0h8",
        "colab_type": "text"
      },
      "source": [
        "# Here with this above polyfit example we can visualize the what is underfitting and overfitting"
      ]
    }
  ]
}